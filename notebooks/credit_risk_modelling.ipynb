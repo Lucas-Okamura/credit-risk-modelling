{
 "cells": [
  {
   "cell_type": "markdown",
   "id": "a230ed5e-95fb-40c3-9a6a-068691d54cd6",
   "metadata": {},
   "source": [
    "# Credit Risk Modelling"
   ]
  },
  {
   "cell_type": "markdown",
   "id": "7a41c435-2062-4c6b-8f0e-7ca72a74679f",
   "metadata": {},
   "source": [
    "# 1. Understanding Credit Risk"
   ]
  },
  {
   "cell_type": "markdown",
   "id": "173a867a-5909-4edd-ae04-4c29c7378ce2",
   "metadata": {},
   "source": [
    "## 1.1. What is credit risk?\n",
    "\n",
    "* The likelihood that a debtor does not repay their debt\n",
    "\n",
    "## 1.2. What are some ways of lender to protect themselves against credit losses?\n",
    "\n",
    "* Measure credit risk well, require collaterals, increase the price of lending the funds (the interest rate).\n",
    "\n",
    "## 1.3. Expected loss (expected credit loss)\n",
    "\n",
    "* EL = PD x LGD x EAD\n",
    "* Expected Loss = Probability of default x Loss given default x Exposure at default\n",
    "* Probability of default (PD): likelihood that the borrower will not be able to repay their debt in full or on time. Usually refers to a specific time horizon.\n",
    "* Loss given default (LGD): the proportion of the total exposure that cannot be recovered by the lender once a default has ocurred.\n",
    "* Exposure at default (EAD): The total value that a lender is exposed to when a borrower defaults."
   ]
  },
  {
   "cell_type": "code",
   "execution_count": null,
   "id": "f16a9157-43e0-4333-856c-80675fe98f38",
   "metadata": {},
   "outputs": [],
   "source": []
  }
 ],
 "metadata": {
  "kernelspec": {
   "display_name": "Python 3 (ipykernel)",
   "language": "python",
   "name": "python3"
  },
  "language_info": {
   "codemirror_mode": {
    "name": "ipython",
    "version": 3
   },
   "file_extension": ".py",
   "mimetype": "text/x-python",
   "name": "python",
   "nbconvert_exporter": "python",
   "pygments_lexer": "ipython3",
   "version": "3.10.9"
  }
 },
 "nbformat": 4,
 "nbformat_minor": 5
}
